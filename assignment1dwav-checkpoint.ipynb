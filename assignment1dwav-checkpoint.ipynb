{
 "cells": [
  {
   "cell_type": "markdown",
   "id": "65a23f1a",
   "metadata": {},
   "source": [
    "### 1. Create a null vector of size 10 but the fifth value which is 1."
   ]
  },
  {
   "cell_type": "code",
   "execution_count": 34,
   "id": "d3d28b52",
   "metadata": {},
   "outputs": [
    {
     "name": "stdout",
     "output_type": "stream",
     "text": [
      "[0. 0. 0. 0. 1. 0. 0. 0. 0. 0.]\n"
     ]
    }
   ],
   "source": [
    "import numpy as np\n",
    "\n",
    "null_vector = np.zeros(10)\n",
    "\n",
    "null_vector[4] = 1\n",
    "\n",
    "print(null_vector)\n",
    "\n"
   ]
  },
  {
   "cell_type": "markdown",
   "id": "28f39696",
   "metadata": {},
   "source": [
    "### 2. Create a vector with values ranging from 10 to 49."
   ]
  },
  {
   "cell_type": "code",
   "execution_count": 12,
   "id": "72ed5b5d",
   "metadata": {},
   "outputs": [
    {
     "name": "stdout",
     "output_type": "stream",
     "text": [
      "[10 11 12 13 14 15 16 17 18 19 20 21 22 23 24 25 26 27 28 29 30 31 32 33\n",
      " 34 35 36 37 38 39 40 41 42 43 44 45 46 47 48 49]\n"
     ]
    }
   ],
   "source": [
    "import numpy as np\n",
    "\n",
    "vector = np.arange(10,50)\n",
    "\n",
    "print(vector)\n",
    "\n"
   ]
  },
  {
   "cell_type": "markdown",
   "id": "bca4859b",
   "metadata": {},
   "source": [
    "### 3. Create a 3x3 matrix with values ranging from 0 to 8 "
   ]
  },
  {
   "cell_type": "code",
   "execution_count": 33,
   "id": "e32527a0",
   "metadata": {},
   "outputs": [
    {
     "name": "stdout",
     "output_type": "stream",
     "text": [
      "[[0 1 2]\n",
      " [3 4 5]\n",
      " [6 7 8]]\n"
     ]
    }
   ],
   "source": [
    "import numpy as np\n",
    "\n",
    "matrix = np.arange(0,9).reshape(3,3)\n",
    "\n",
    "print(matrix)"
   ]
  },
  {
   "cell_type": "markdown",
   "id": "2d382d0e",
   "metadata": {},
   "source": [
    "### 4. Find indices of non-zero elements from [1,2,0,0,4,0]"
   ]
  },
  {
   "cell_type": "code",
   "execution_count": 32,
   "id": "f6633d6c",
   "metadata": {},
   "outputs": [
    {
     "name": "stdout",
     "output_type": "stream",
     "text": [
      "(array([0, 1, 4], dtype=int64),)\n"
     ]
    }
   ],
   "source": [
    "import numpy as np\n",
    "\n",
    "indices = np.array([1, 2, 0, 0, 4, 0])\n",
    "\n",
    "i = np.nonzero(indices)\n",
    "\n",
    "print(i)"
   ]
  },
  {
   "cell_type": "markdown",
   "id": "d8d0b5f5",
   "metadata": {},
   "source": [
    "### 5. Create a 10x10 array with random values and find the minimum and maximum values."
   ]
  },
  {
   "cell_type": "code",
   "execution_count": 31,
   "id": "c875903d",
   "metadata": {},
   "outputs": [
    {
     "name": "stdout",
     "output_type": "stream",
     "text": [
      "[[0.23766982 0.30912212 0.47504135 0.09235272 0.52906353 0.20709843\n",
      "  0.96658955 0.89581728 0.01802082 0.98294277]\n",
      " [0.67294012 0.18140672 0.07200554 0.7016394  0.26302758 0.1128492\n",
      "  0.70043707 0.96852205 0.36627644 0.09487478]\n",
      " [0.95545406 0.19189073 0.76942565 0.5004202  0.56362575 0.8525144\n",
      "  0.27996043 0.48952669 0.82355661 0.24462146]\n",
      " [0.7195408  0.71718325 0.1716962  0.70151126 0.42646384 0.27256143\n",
      "  0.52795785 0.12387196 0.99078719 0.3912662 ]\n",
      " [0.76269356 0.32867729 0.27047732 0.63300343 0.94892212 0.62991025\n",
      "  0.48251294 0.43924873 0.86726947 0.18247956]\n",
      " [0.82747233 0.97007035 0.6125451  0.64290816 0.95121988 0.90855822\n",
      "  0.21956523 0.60309348 0.43803039 0.19285502]\n",
      " [0.72515818 0.64247291 0.50362515 0.13816878 0.87127049 0.76141869\n",
      "  0.26873205 0.94836189 0.3544615  0.25686408]\n",
      " [0.77673564 0.58094463 0.4123525  0.79639325 0.41251328 0.14449689\n",
      "  0.63518709 0.00974635 0.33899183 0.19878518]\n",
      " [0.8975697  0.3199419  0.15421023 0.8234798  0.69090795 0.05087057\n",
      "  0.98865274 0.67338135 0.72856698 0.16950126]\n",
      " [0.73925967 0.21067882 0.56042489 0.18403042 0.59680818 0.55084041\n",
      "  0.95300255 0.48543679 0.13303423 0.68546754]]\n",
      "minimum value  0.00974634570518762\n",
      "maximum value  0.9907871904888462\n"
     ]
    }
   ],
   "source": [
    "import numpy as np\n",
    "\n",
    "array = np.random.random((10,10))\n",
    "\n",
    "print(array)\n",
    "\n",
    "mini = np.min(array)\n",
    "\n",
    "print(\"minimum value \",mini)\n",
    "\n",
    "maxi = np.max(array)\n",
    "\n",
    "print(\"maximum value \",maxi)"
   ]
  },
  {
   "cell_type": "markdown",
   "id": "b0e4a015",
   "metadata": {},
   "source": [
    "### 6. Create a random vector of size 30 and find the mean value.\n"
   ]
  },
  {
   "cell_type": "code",
   "execution_count": 30,
   "id": "d3407531",
   "metadata": {},
   "outputs": [
    {
     "name": "stdout",
     "output_type": "stream",
     "text": [
      "[0.66479143 0.2960656  0.11107305 0.32276661 0.30199576 0.34628501\n",
      " 0.75197894 0.58191455 0.71044784 0.07147365 0.72832641 0.31503424\n",
      " 0.41171767 0.46497984 0.47604926 0.11523112 0.2075773  0.22870073\n",
      " 0.33701917 0.9600587  0.13888551 0.62658672 0.5001471  0.57394718\n",
      " 0.21051612 0.23738157 0.65450919 0.19673436 0.70047661 0.10381435]\n",
      "Mean value 0.41154951928651345\n"
     ]
    }
   ],
   "source": [
    "import numpy as np\n",
    "\n",
    "random = np.random.random((30))\n",
    "\n",
    "print(random)\n",
    "\n",
    "z = np.mean(random)\n",
    "\n",
    "print(\"Mean value\",z)"
   ]
  },
  {
   "cell_type": "code",
   "execution_count": null,
   "id": "f69baad2",
   "metadata": {},
   "outputs": [],
   "source": []
  }
 ],
 "metadata": {
  "kernelspec": {
   "display_name": "Python 3 (ipykernel)",
   "language": "python",
   "name": "python3"
  },
  "language_info": {
   "codemirror_mode": {
    "name": "ipython",
    "version": 3
   },
   "file_extension": ".py",
   "mimetype": "text/x-python",
   "name": "python",
   "nbconvert_exporter": "python",
   "pygments_lexer": "ipython3",
   "version": "3.9.6"
  }
 },
 "nbformat": 4,
 "nbformat_minor": 5
}
