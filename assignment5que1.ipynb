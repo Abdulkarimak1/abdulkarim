{
 "cells": [
  {
   "cell_type": "code",
   "execution_count": 4,
   "id": "e9afc787",
   "metadata": {},
   "outputs": [
    {
     "name": "stdout",
     "output_type": "stream",
     "text": [
      "Enter the number: 10\n",
      "Enter the n'th term:  2\n",
      "The resulted output is:  100\n"
     ]
    }
   ],
   "source": [
    "x=int(input(\"Enter the number: \"))\n",
    "n=int(input(\"Enter the n'th term:  \"))\n",
    "class powerofnum:\n",
    "    def __init__(self,a,b):\n",
    "        self.a=a\n",
    "        self.b=b\n",
    "        self.result=0\n",
    "       \n",
    "    def powerofN(self):\n",
    "        self.result=pow(self.a,self.b)\n",
    "        print(\"The resulted output is: \",self.result)\n",
    "k=powerofnum(x,n)\n",
    "k.powerofN()"
   ]
  },
  {
   "cell_type": "code",
   "execution_count": null,
   "id": "de607cd9",
   "metadata": {},
   "outputs": [],
   "source": []
  }
 ],
 "metadata": {
  "kernelspec": {
   "display_name": "Python 3 (ipykernel)",
   "language": "python",
   "name": "python3"
  },
  "language_info": {
   "codemirror_mode": {
    "name": "ipython",
    "version": 3
   },
   "file_extension": ".py",
   "mimetype": "text/x-python",
   "name": "python",
   "nbconvert_exporter": "python",
   "pygments_lexer": "ipython3",
   "version": "3.9.6"
  }
 },
 "nbformat": 4,
 "nbformat_minor": 5
}
