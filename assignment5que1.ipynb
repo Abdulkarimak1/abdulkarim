{
 "cells": [
  {
   "cell_type": "code",
   "execution_count": 2,
   "id": "8c299007",
   "metadata": {},
   "outputs": [
    {
     "name": "stdout",
     "output_type": "stream",
     "text": [
      "enter the number: 10\n",
      "enter the power: 2\n",
      "the resulted  output is: 100\n"
     ]
    }
   ],
   "source": [
    "p=int(input(\"enter the number: \"))\n",
    "q=int(input(\"enter the power: \"))\n",
    "\n",
    "class py_solution:\n",
    " def power(self, x, n):\n",
    "        if x==0 or x==1 or n==1:\n",
    "            return x \n",
    "\n",
    "        if x==-1:\n",
    "            if n%2 ==0:\n",
    "                return 1\n",
    "            else:\n",
    "                return -1\n",
    "        if n==0:\n",
    "            return 1\n",
    "        if n<0:\n",
    "            return 1/self.power(x,-n)\n",
    "        z = self.power(x,n//2)\n",
    "        if n%2 ==0:\n",
    "            return z*z\n",
    "        return val*val*x\n",
    "\n",
    "print (\"the resulted  output is:\",py_solution().power(p,q))"
   ]
  },
  {
   "cell_type": "code",
   "execution_count": null,
   "id": "50571e29",
   "metadata": {},
   "outputs": [],
   "source": []
  }
 ],
 "metadata": {
  "kernelspec": {
   "display_name": "Python 3 (ipykernel)",
   "language": "python",
   "name": "python3"
  },
  "language_info": {
   "codemirror_mode": {
    "name": "ipython",
    "version": 3
   },
   "file_extension": ".py",
   "mimetype": "text/x-python",
   "name": "python",
   "nbconvert_exporter": "python",
   "pygments_lexer": "ipython3",
   "version": "3.9.6"
  }
 },
 "nbformat": 4,
 "nbformat_minor": 5
}
