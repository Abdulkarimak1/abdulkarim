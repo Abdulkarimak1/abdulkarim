{
 "cells": [
  {
   "cell_type": "code",
   "execution_count": 3,
   "id": "cb1502fb",
   "metadata": {},
   "outputs": [
    {
     "name": "stdout",
     "output_type": "stream",
     "text": [
      "list before sorting [(2, 5), (1, 2), (4, 4), (2, 3), (2, 1)]\n",
      "list after sorting [(2, 1), (1, 2), (2, 3), (4, 4), (2, 5)]\n"
     ]
    }
   ],
   "source": [
    "def last_in_list(n): \n",
    "    return n[1]\n",
    "\n",
    "list1=[(2,5),(1,2),(4,4), (2,3), (2,1)]\n",
    "print(\"list before sorting\",list1)\n",
    "\n",
    "list2=sorted(list1, key=last_in_list)\n",
    "print (\"list after sorting\",list2)"
   ]
  },
  {
   "cell_type": "code",
   "execution_count": null,
   "id": "eabf4efb",
   "metadata": {},
   "outputs": [],
   "source": []
  }
 ],
 "metadata": {
  "kernelspec": {
   "display_name": "Python 3 (ipykernel)",
   "language": "python",
   "name": "python3"
  },
  "language_info": {
   "codemirror_mode": {
    "name": "ipython",
    "version": 3
   },
   "file_extension": ".py",
   "mimetype": "text/x-python",
   "name": "python",
   "nbconvert_exporter": "python",
   "pygments_lexer": "ipython3",
   "version": "3.9.6"
  }
 },
 "nbformat": 4,
 "nbformat_minor": 5
}
