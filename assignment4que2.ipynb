{
 "cells": [
  {
   "cell_type": "code",
   "execution_count": 7,
   "id": "691550d0",
   "metadata": {},
   "outputs": [
    {
     "name": "stdout",
     "output_type": "stream",
     "text": [
      "input list:  (1, 2, 3, 4, 5, 6, 7)\n",
      "triple of list numbers: [3, 6, 9, 12, 15, 18, 21]\n"
     ]
    }
   ],
   "source": [
    "nums = (1, 2, 3, 4, 5, 6, 7) \n",
    "print(\"input list: \", nums)\n",
    "result = map(lambda x: x + x + x, nums) \n",
    "result=(list(result))\n",
    "print(\"triple of list numbers:\",result)"
   ]
  },
  {
   "cell_type": "code",
   "execution_count": null,
   "id": "6cd0ce34",
   "metadata": {},
   "outputs": [],
   "source": []
  }
 ],
 "metadata": {
  "kernelspec": {
   "display_name": "Python 3 (ipykernel)",
   "language": "python",
   "name": "python3"
  },
  "language_info": {
   "codemirror_mode": {
    "name": "ipython",
    "version": 3
   },
   "file_extension": ".py",
   "mimetype": "text/x-python",
   "name": "python",
   "nbconvert_exporter": "python",
   "pygments_lexer": "ipython3",
   "version": "3.9.6"
  }
 },
 "nbformat": 4,
 "nbformat_minor": 5
}
