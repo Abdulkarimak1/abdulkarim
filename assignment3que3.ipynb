{
 "cells": [
  {
   "cell_type": "code",
   "execution_count": null,
   "id": "5a9dcbea",
   "metadata": {},
   "outputs": [],
   "source": [
    "k=input()\n",
    "def upplowercount(s):\n",
    "    l,u = 0,0\n",
    "    for i in s:\n",
    "        if (i>='a'and i<='z'):\n",
    "            l=l+1                 \n",
    "        if (i>='A'and i<='Z'):\n",
    "            u=u+1   \n",
    "    return \"Lowercase letters count=\",l,\"uppercase letters count=\",u\n",
    "\n",
    "          \n",
    "print(upplowercount(k))"
   ]
  },
  {
   "cell_type": "code",
   "execution_count": null,
   "id": "7a7e5e52",
   "metadata": {},
   "outputs": [],
   "source": []
  },
  {
   "cell_type": "code",
   "execution_count": null,
   "id": "185be0d5",
   "metadata": {},
   "outputs": [],
   "source": []
  }
 ],
 "metadata": {
  "kernelspec": {
   "display_name": "Python 3 (ipykernel)",
   "language": "python",
   "name": "python3"
  },
  "language_info": {
   "codemirror_mode": {
    "name": "ipython",
    "version": 3
   },
   "file_extension": ".py",
   "mimetype": "text/x-python",
   "name": "python",
   "nbconvert_exporter": "python",
   "pygments_lexer": "ipython3",
   "version": "3.9.6"
  }
 },
 "nbformat": 4,
 "nbformat_minor": 5
}
