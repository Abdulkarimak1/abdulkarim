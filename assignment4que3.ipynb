{
 "cells": [
  {
   "cell_type": "code",
   "execution_count": 5,
   "id": "06defc51",
   "metadata": {},
   "outputs": [
    {
     "name": "stdout",
     "output_type": "stream",
     "text": [
      "input List:   [4, 5, 2, 9]\n",
      "list after squaring:   [16, 25, 4, 81]\n"
     ]
    }
   ],
   "source": [
    "nums = [4, 5, 2, 9]\n",
    "print(\"input List:  \",nums)\n",
    "result = map(lambda y: y*y,nums)\n",
    "result=(list(result))\n",
    "print(\"list after squaring:  \",result)"
   ]
  },
  {
   "cell_type": "code",
   "execution_count": null,
   "id": "15ae521a",
   "metadata": {},
   "outputs": [],
   "source": []
  }
 ],
 "metadata": {
  "kernelspec": {
   "display_name": "Python 3 (ipykernel)",
   "language": "python",
   "name": "python3"
  },
  "language_info": {
   "codemirror_mode": {
    "name": "ipython",
    "version": 3
   },
   "file_extension": ".py",
   "mimetype": "text/x-python",
   "name": "python",
   "nbconvert_exporter": "python",
   "pygments_lexer": "ipython3",
   "version": "3.9.6"
  }
 },
 "nbformat": 4,
 "nbformat_minor": 5
}
