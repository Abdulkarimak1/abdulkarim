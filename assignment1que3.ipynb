{
 "cells": [
  {
   "cell_type": "code",
   "execution_count": 1,
   "id": "842834bb",
   "metadata": {},
   "outputs": [
    {
     "name": "stdout",
     "output_type": "stream",
     "text": [
      "total even numbers in series are 4\n",
      "total odd numbers in series are 5\n"
     ]
    }
   ],
   "source": [
    "x=[1,2,3,4,5,6,7,8,9]\n",
    "y=0\n",
    "z=0\n",
    "for i in x:\n",
    "    if (i%2 == 0):\n",
    "        y=y+1\n",
    "    else:\n",
    "        z=z+1\n",
    "print(\"total even numbers in series are\",y)\n",
    "print(\"total odd numbers in series are\",z)"
   ]
  },
  {
   "cell_type": "code",
   "execution_count": null,
   "id": "46644716",
   "metadata": {},
   "outputs": [],
   "source": []
  }
 ],
 "metadata": {
  "kernelspec": {
   "display_name": "Python 3 (ipykernel)",
   "language": "python",
   "name": "python3"
  },
  "language_info": {
   "codemirror_mode": {
    "name": "ipython",
    "version": 3
   },
   "file_extension": ".py",
   "mimetype": "text/x-python",
   "name": "python",
   "nbconvert_exporter": "python",
   "pygments_lexer": "ipython3",
   "version": "3.9.6"
  }
 },
 "nbformat": 4,
 "nbformat_minor": 5
}
